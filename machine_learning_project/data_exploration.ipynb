{
 "cells": [
  {
   "cell_type": "code",
   "execution_count": 1,
   "metadata": {},
   "outputs": [],
   "source": [
    "import os\n",
    "import pandas as pd \n",
    "import numpy as np \n",
    "import matplotlib.pyplot as plt \n",
    "from dtypes import dtypes"
   ]
  },
  {
   "cell_type": "markdown",
   "metadata": {},
   "source": [
    "Project phases:\n",
    "1) problem statement\n",
    "2) solution design\n",
    "3) solution development\n",
    "4) data collection\n",
    "5) writing"
   ]
  },
  {
   "cell_type": "markdown",
   "metadata": {},
   "source": [
    "You can find 5 datasets :\n",
    "\n",
    "- games.csv : all games from 2004 season to last update with the date, teams and some details like number of points, etc.\n",
    "- games_details.csv : details of games dataset, all statistics of players for a given game\n",
    "- players.csv : players details (name)\n",
    "- ranking.csv : ranking of NBA given a day (split into west and east on CONFERENCE column\n",
    "- teams.csv : all teams of NBA"
   ]
  },
  {
   "cell_type": "markdown",
   "metadata": {},
   "source": [
    "***Problem statement:***"
   ]
  },
  {
   "cell_type": "markdown",
   "metadata": {},
   "source": [
    "1) Predicting the most impactful player of a match\n",
    "\n",
    "--> define the impact of a player\n",
    "--> predictors?\n",
    "--> label? (which variable to use for the impact - derived from its definition)\n",
    "\n",
    "2) Predicting some statistics of a player in a match\n",
    "\n",
    "--> define the variables (or single statistic variable derived from the set) that compose the player's statistics\n",
    "--> predictors?"
   ]
  },
  {
   "cell_type": "markdown",
   "metadata": {},
   "source": [
    "***Solution Design:***"
   ]
  },
  {
   "cell_type": "markdown",
   "metadata": {},
   "source": [
    "1) \n",
    "- For the first problem we need to look at the players and matches, so we need to merge in some way the games_details.csv (that contains the statistics of the players for a given game) with players.csv (for single player's ID) and games.csv. Probably there is also a connection with ranking.csv, thinking for example of the motivation a player may have when his team is at the top or at the bottom of the rank. \n",
    "- ***Impactness definition***: number of scores? number of assists? Unifying statistics like that? The main question is: would the game be the same without that player? I think this is the main concept of impactness\n",
    "\n",
    "2) For the second problem we have first to decide how to define a player's statistic/s"
   ]
  },
  {
   "cell_type": "markdown",
   "metadata": {},
   "source": [
    "***Solution Development***"
   ]
  },
  {
   "cell_type": "markdown",
   "metadata": {},
   "source": [
    "***Data Exploration***"
   ]
  },
  {
   "cell_type": "code",
   "execution_count": 5,
   "metadata": {},
   "outputs": [],
   "source": [
    "games_details = pd.read_csv('data/games_details.csv', dtype = dtypes['games_details'])\n",
    "games = pd.read_csv('data/games.csv', dtype = dtypes['games'])\n",
    "players = pd.read_csv('data/players.csv', dtype = dtypes['players'])\n",
    "ranking = pd.read_csv('data/ranking.csv', dtype = dtypes['rankings'])\n",
    "teams = pd.read_csv('data/teams.csv', dtype = dtypes['teams'])"
   ]
  },
  {
   "cell_type": "markdown",
   "metadata": {},
   "source": [
    "Problems right now:\n",
    "- different player_id btw datasets --> leading to missing data\n",
    "- different game_id btw datasets --> leading to missing data (maybe games registered in games.csv but not registered in games_details.csv?)"
   ]
  },
  {
   "cell_type": "code",
   "execution_count": 86,
   "metadata": {},
   "outputs": [
    {
     "data": {
      "text/plain": [
       "(2687,)"
      ]
     },
     "execution_count": 86,
     "metadata": {},
     "output_type": "execute_result"
    }
   ],
   "source": [
    "games_details['PLAYER_ID'].unique().shape"
   ]
  },
  {
   "cell_type": "code",
   "execution_count": 87,
   "metadata": {},
   "outputs": [
    {
     "data": {
      "text/plain": [
       "(1769,)"
      ]
     },
     "execution_count": 87,
     "metadata": {},
     "output_type": "execute_result"
    }
   ],
   "source": [
    "players['PLAYER_ID'].unique().shape"
   ]
  },
  {
   "cell_type": "code",
   "execution_count": 88,
   "metadata": {},
   "outputs": [
    {
     "data": {
      "text/plain": [
       "(26622,)"
      ]
     },
     "execution_count": 88,
     "metadata": {},
     "output_type": "execute_result"
    }
   ],
   "source": [
    "games['GAME_ID'].unique().shape "
   ]
  },
  {
   "cell_type": "code",
   "execution_count": 89,
   "metadata": {},
   "outputs": [
    {
     "data": {
      "text/plain": [
       "(26523,)"
      ]
     },
     "execution_count": 89,
     "metadata": {},
     "output_type": "execute_result"
    }
   ],
   "source": [
    "games_details['GAME_ID'].unique().shape"
   ]
  },
  {
   "cell_type": "code",
   "execution_count": 90,
   "metadata": {},
   "outputs": [],
   "source": [
    "# checking games that are in games but not in games_details\n",
    "games_not_in_games_details = games[~games['GAME_ID'].isin(games_details['GAME_ID'])]"
   ]
  },
  {
   "cell_type": "code",
   "execution_count": 91,
   "metadata": {},
   "outputs": [
    {
     "data": {
      "text/plain": [
       "('2003-10-24', '2003-10-07')"
      ]
     },
     "execution_count": 91,
     "metadata": {},
     "output_type": "execute_result"
    }
   ],
   "source": [
    "games_not_in_games_details['GAME_DATE_EST'].max(), games_not_in_games_details['GAME_DATE_EST'].min()"
   ]
  },
  {
   "cell_type": "markdown",
   "metadata": {},
   "source": [
    "From here we can see that the games not present in games.csv are in 2003 and that year should not be considered since it shouldn't be in the dataset. Solution: remove rows with year 2003 and select the game_id of that dataset. Subset the games_details.csv based on those IDs."
   ]
  },
  {
   "cell_type": "code",
   "execution_count": 92,
   "metadata": {},
   "outputs": [
    {
     "name": "stdout",
     "output_type": "stream",
     "text": [
      "[2022 2021 2020 2019 2014 2013 2012 2011 2010 2009 2008 2007 2006 2005\n",
      " 2004 2003 2018 2017 2016 2015]\n"
     ]
    }
   ],
   "source": [
    "# Convert the GAME_DATE_EST column to datetime format\n",
    "games['GAME_DATE_EST'] = pd.to_datetime(games['GAME_DATE_EST'])\n",
    "\n",
    "# Extract the unique years\n",
    "unique_years = games['GAME_DATE_EST'].dt.year.unique()\n",
    "print(unique_years)"
   ]
  },
  {
   "cell_type": "code",
   "execution_count": 93,
   "metadata": {},
   "outputs": [
    {
     "data": {
      "text/html": [
       "<div>\n",
       "<style scoped>\n",
       "    .dataframe tbody tr th:only-of-type {\n",
       "        vertical-align: middle;\n",
       "    }\n",
       "\n",
       "    .dataframe tbody tr th {\n",
       "        vertical-align: top;\n",
       "    }\n",
       "\n",
       "    .dataframe thead th {\n",
       "        text-align: right;\n",
       "    }\n",
       "</style>\n",
       "<table border=\"1\" class=\"dataframe\">\n",
       "  <thead>\n",
       "    <tr style=\"text-align: right;\">\n",
       "      <th></th>\n",
       "      <th>GAME_DATE_EST</th>\n",
       "      <th>GAME_ID</th>\n",
       "      <th>GAME_STATUS_TEXT</th>\n",
       "      <th>HOME_TEAM_ID</th>\n",
       "      <th>VISITOR_TEAM_ID</th>\n",
       "      <th>SEASON</th>\n",
       "      <th>TEAM_ID_home</th>\n",
       "      <th>PTS_home</th>\n",
       "      <th>FG_PCT_home</th>\n",
       "      <th>FT_PCT_home</th>\n",
       "      <th>...</th>\n",
       "      <th>AST_home</th>\n",
       "      <th>REB_home</th>\n",
       "      <th>TEAM_ID_away</th>\n",
       "      <th>PTS_away</th>\n",
       "      <th>FG_PCT_away</th>\n",
       "      <th>FT_PCT_away</th>\n",
       "      <th>FG3_PCT_away</th>\n",
       "      <th>AST_away</th>\n",
       "      <th>REB_away</th>\n",
       "      <th>HOME_TEAM_WINS</th>\n",
       "    </tr>\n",
       "  </thead>\n",
       "  <tbody>\n",
       "    <tr>\n",
       "      <th>0</th>\n",
       "      <td>2004-01-02</td>\n",
       "      <td>20300451</td>\n",
       "      <td>Final</td>\n",
       "      <td>1610612764</td>\n",
       "      <td>1610612744</td>\n",
       "      <td>2003</td>\n",
       "      <td>1610612764</td>\n",
       "      <td>97.0</td>\n",
       "      <td>0.446</td>\n",
       "      <td>0.611</td>\n",
       "      <td>...</td>\n",
       "      <td>30.0</td>\n",
       "      <td>58.0</td>\n",
       "      <td>1610612744</td>\n",
       "      <td>79.0</td>\n",
       "      <td>0.403</td>\n",
       "      <td>0.818</td>\n",
       "      <td>0.381</td>\n",
       "      <td>20.0</td>\n",
       "      <td>36.0</td>\n",
       "      <td>1</td>\n",
       "    </tr>\n",
       "    <tr>\n",
       "      <th>1</th>\n",
       "      <td>2004-01-02</td>\n",
       "      <td>20300458</td>\n",
       "      <td>Final</td>\n",
       "      <td>1610612750</td>\n",
       "      <td>1610612737</td>\n",
       "      <td>2003</td>\n",
       "      <td>1610612750</td>\n",
       "      <td>93.0</td>\n",
       "      <td>0.409</td>\n",
       "      <td>0.929</td>\n",
       "      <td>...</td>\n",
       "      <td>32.0</td>\n",
       "      <td>56.0</td>\n",
       "      <td>1610612737</td>\n",
       "      <td>75.0</td>\n",
       "      <td>0.372</td>\n",
       "      <td>0.737</td>\n",
       "      <td>0.375</td>\n",
       "      <td>22.0</td>\n",
       "      <td>31.0</td>\n",
       "      <td>1</td>\n",
       "    </tr>\n",
       "    <tr>\n",
       "      <th>2</th>\n",
       "      <td>2004-01-02</td>\n",
       "      <td>20300454</td>\n",
       "      <td>Final</td>\n",
       "      <td>1610612752</td>\n",
       "      <td>1610612741</td>\n",
       "      <td>2003</td>\n",
       "      <td>1610612752</td>\n",
       "      <td>99.0</td>\n",
       "      <td>0.470</td>\n",
       "      <td>0.800</td>\n",
       "      <td>...</td>\n",
       "      <td>25.0</td>\n",
       "      <td>38.0</td>\n",
       "      <td>1610612741</td>\n",
       "      <td>104.0</td>\n",
       "      <td>0.488</td>\n",
       "      <td>0.724</td>\n",
       "      <td>0.385</td>\n",
       "      <td>20.0</td>\n",
       "      <td>44.0</td>\n",
       "      <td>0</td>\n",
       "    </tr>\n",
       "    <tr>\n",
       "      <th>3</th>\n",
       "      <td>2004-01-02</td>\n",
       "      <td>20300457</td>\n",
       "      <td>Final</td>\n",
       "      <td>1610612765</td>\n",
       "      <td>1610612756</td>\n",
       "      <td>2003</td>\n",
       "      <td>1610612765</td>\n",
       "      <td>93.0</td>\n",
       "      <td>0.389</td>\n",
       "      <td>0.947</td>\n",
       "      <td>...</td>\n",
       "      <td>26.0</td>\n",
       "      <td>54.0</td>\n",
       "      <td>1610612756</td>\n",
       "      <td>81.0</td>\n",
       "      <td>0.395</td>\n",
       "      <td>0.895</td>\n",
       "      <td>0.364</td>\n",
       "      <td>20.0</td>\n",
       "      <td>34.0</td>\n",
       "      <td>1</td>\n",
       "    </tr>\n",
       "    <tr>\n",
       "      <th>4</th>\n",
       "      <td>2004-01-02</td>\n",
       "      <td>20300453</td>\n",
       "      <td>Final</td>\n",
       "      <td>1610612738</td>\n",
       "      <td>1610612754</td>\n",
       "      <td>2003</td>\n",
       "      <td>1610612738</td>\n",
       "      <td>90.0</td>\n",
       "      <td>0.507</td>\n",
       "      <td>0.640</td>\n",
       "      <td>...</td>\n",
       "      <td>17.0</td>\n",
       "      <td>34.0</td>\n",
       "      <td>1610612754</td>\n",
       "      <td>103.0</td>\n",
       "      <td>0.437</td>\n",
       "      <td>0.760</td>\n",
       "      <td>0.333</td>\n",
       "      <td>21.0</td>\n",
       "      <td>47.0</td>\n",
       "      <td>0</td>\n",
       "    </tr>\n",
       "  </tbody>\n",
       "</table>\n",
       "<p>5 rows × 21 columns</p>\n",
       "</div>"
      ],
      "text/plain": [
       "  GAME_DATE_EST   GAME_ID GAME_STATUS_TEXT  HOME_TEAM_ID  VISITOR_TEAM_ID  \\\n",
       "0    2004-01-02  20300451            Final    1610612764       1610612744   \n",
       "1    2004-01-02  20300458            Final    1610612750       1610612737   \n",
       "2    2004-01-02  20300454            Final    1610612752       1610612741   \n",
       "3    2004-01-02  20300457            Final    1610612765       1610612756   \n",
       "4    2004-01-02  20300453            Final    1610612738       1610612754   \n",
       "\n",
       "   SEASON  TEAM_ID_home  PTS_home  FG_PCT_home  FT_PCT_home  ...  AST_home  \\\n",
       "0    2003    1610612764      97.0        0.446        0.611  ...      30.0   \n",
       "1    2003    1610612750      93.0        0.409        0.929  ...      32.0   \n",
       "2    2003    1610612752      99.0        0.470        0.800  ...      25.0   \n",
       "3    2003    1610612765      93.0        0.389        0.947  ...      26.0   \n",
       "4    2003    1610612738      90.0        0.507        0.640  ...      17.0   \n",
       "\n",
       "   REB_home  TEAM_ID_away  PTS_away  FG_PCT_away  FT_PCT_away  FG3_PCT_away  \\\n",
       "0      58.0    1610612744      79.0        0.403        0.818         0.381   \n",
       "1      56.0    1610612737      75.0        0.372        0.737         0.375   \n",
       "2      38.0    1610612741     104.0        0.488        0.724         0.385   \n",
       "3      54.0    1610612756      81.0        0.395        0.895         0.364   \n",
       "4      34.0    1610612754     103.0        0.437        0.760         0.333   \n",
       "\n",
       "   AST_away  REB_away  HOME_TEAM_WINS  \n",
       "0      20.0      36.0               1  \n",
       "1      22.0      31.0               1  \n",
       "2      20.0      44.0               0  \n",
       "3      20.0      34.0               1  \n",
       "4      21.0      47.0               0  \n",
       "\n",
       "[5 rows x 21 columns]"
      ]
     },
     "execution_count": 93,
     "metadata": {},
     "output_type": "execute_result"
    }
   ],
   "source": [
    "# Filter out rows that include the year 2003\n",
    "games_filtered = games[games['GAME_DATE_EST'].dt.year != 2003]\n",
    "\n",
    "# Order the remaining rows based on the date\n",
    "games_filtered = games_filtered.sort_values(by='GAME_DATE_EST')\n",
    "\n",
    "# DataFrame\n",
    "games_filtered = pd.DataFrame(games_filtered)\n",
    "games_filtered.reset_index(drop=True, inplace=True)\n",
    "\n",
    "games_filtered.head()"
   ]
  },
  {
   "cell_type": "code",
   "execution_count": 94,
   "metadata": {},
   "outputs": [
    {
     "data": {
      "text/plain": [
       "((26058,), (26523,))"
      ]
     },
     "execution_count": 94,
     "metadata": {},
     "output_type": "execute_result"
    }
   ],
   "source": [
    "games_filtered['GAME_ID'].unique().shape, games_details['GAME_ID'].unique().shape \n",
    "\n",
    "## STILL NEED TO CHECK WHY THE GAMES_DETAILS CONTAIN MORE GAMES THAN GAMES_FILTERED\n",
    "\n",
    "## A POSSIBLE SOLUTION IS TO FILTER OUT THE GAMES THAT ARE NOT IN GAMES_DETAILS"
   ]
  },
  {
   "cell_type": "code",
   "execution_count": 95,
   "metadata": {},
   "outputs": [
    {
     "data": {
      "text/plain": [
       "((26058,), (26058,))"
      ]
     },
     "execution_count": 95,
     "metadata": {},
     "output_type": "execute_result"
    }
   ],
   "source": [
    "## FILTERING OUT THE GAMES THAT ARE NOT IN GAMES_DETAILS\n",
    "games_details_filtered = games_details[games_details['GAME_ID'].isin(games_filtered['GAME_ID'])]\n",
    "games_details_filtered['GAME_ID'].unique().shape, games_filtered['GAME_ID'].unique().shape"
   ]
  },
  {
   "cell_type": "markdown",
   "metadata": {},
   "source": [
    "Now games_filtered and games_details_filtered have the same number of unique game_ids\n",
    "Need to do the same for the student_id"
   ]
  },
  {
   "cell_type": "code",
   "execution_count": 96,
   "metadata": {},
   "outputs": [
    {
     "data": {
      "text/plain": [
       "((1769,), (2687,), (2657,))"
      ]
     },
     "execution_count": 96,
     "metadata": {},
     "output_type": "execute_result"
    }
   ],
   "source": [
    "players['PLAYER_ID'].unique().shape, games_details['PLAYER_ID'].unique().shape, games_details_filtered['PLAYER_ID'].unique().shape"
   ]
  },
  {
   "cell_type": "markdown",
   "metadata": {},
   "source": [
    "Possible motivation: maybe substitutes of the players?\n",
    "Anyway, maybe there is no need to filter the number of player_IDs since I need to consider only one player at a time and the entire learning process is done on them."
   ]
  },
  {
   "cell_type": "code",
   "execution_count": 97,
   "metadata": {},
   "outputs": [
    {
     "data": {
      "text/plain": [
       "array([2019, 2018, 2017, 2016, 2015, 2014, 2013, 2012, 2011, 2010, 2009])"
      ]
     },
     "execution_count": 97,
     "metadata": {},
     "output_type": "execute_result"
    }
   ],
   "source": [
    "players['SEASON'].unique()"
   ]
  },
  {
   "cell_type": "markdown",
   "metadata": {},
   "source": [
    "Now I understood that I need to filter the years since I only have player data for years in 2009-2019"
   ]
  },
  {
   "cell_type": "code",
   "execution_count": 98,
   "metadata": {},
   "outputs": [
    {
     "data": {
      "text/plain": [
       "((1769,), (7228, 4))"
      ]
     },
     "execution_count": 98,
     "metadata": {},
     "output_type": "execute_result"
    }
   ],
   "source": [
    "players['PLAYER_ID'].unique().shape, players.shape"
   ]
  },
  {
   "cell_type": "code",
   "execution_count": 103,
   "metadata": {},
   "outputs": [],
   "source": [
    "## unifiying games_fltered and games_details_filtered\n",
    "data_filtered = pd.merge(games_filtered, games_details_filtered, on='GAME_ID', how='inner')\n"
   ]
  },
  {
   "cell_type": "code",
   "execution_count": 104,
   "metadata": {},
   "outputs": [],
   "source": [
    "## FILTERING YEARS OF GAMES_DETAILS_FILTERED AND GAMES_FILTERED TO MATCH THE PLAYERS DATAFRAME\n",
    "# Extract the unique seasons from the players dataframe\n",
    "unique_seasons = players['SEASON'].unique()\n",
    "\n",
    "# Filter out rows that include the seasons that are not in the players dataframe\n",
    "data_filtered_date = data_filtered[data_filtered['SEASON'].isin(unique_seasons)]"
   ]
  },
  {
   "cell_type": "code",
   "execution_count": 105,
   "metadata": {},
   "outputs": [
    {
     "data": {
      "text/plain": [
       "((1775,), (1769,))"
      ]
     },
     "execution_count": 105,
     "metadata": {},
     "output_type": "execute_result"
    }
   ],
   "source": [
    "data_filtered_date['PLAYER_ID'].unique().shape, players['PLAYER_ID'].unique().shape"
   ]
  },
  {
   "cell_type": "markdown",
   "metadata": {},
   "source": [
    "Got only 6 players unknown now"
   ]
  },
  {
   "cell_type": "code",
   "execution_count": null,
   "metadata": {},
   "outputs": [
    {
     "data": {
      "text/plain": [
       "554770    1628987\n",
       "554808    1628987\n",
       "555282    1628987\n",
       "556675    1628778\n",
       "557170    1628778\n",
       "           ...   \n",
       "571384    1628778\n",
       "571729    1628778\n",
       "571807    1628778\n",
       "571961    1629216\n",
       "572236    1628778\n",
       "Name: PLAYER_ID, Length: 90, dtype: int64"
      ]
     },
     "execution_count": 106,
     "metadata": {},
     "output_type": "execute_result"
    }
   ],
   "source": [
    "## checking players that are on the data_filtered_date but not in the players dataframe\n",
    "players_not_in_data_filtered = data_filtered_date[~data_filtered_date['PLAYER_ID'].isin(players['PLAYER_ID'])]"
   ]
  },
  {
   "cell_type": "code",
   "execution_count": 109,
   "metadata": {},
   "outputs": [
    {
     "data": {
      "text/plain": [
       "array([1628987, 1628778, 1629760, 1629216, 1626218, 1629007])"
      ]
     },
     "execution_count": 109,
     "metadata": {},
     "output_type": "execute_result"
    }
   ],
   "source": [
    "players_not_in_data_filtered['PLAYER_ID'].unique()"
   ]
  },
  {
   "cell_type": "code",
   "execution_count": 121,
   "metadata": {},
   "outputs": [
    {
     "data": {
      "text/html": [
       "<div>\n",
       "<style scoped>\n",
       "    .dataframe tbody tr th:only-of-type {\n",
       "        vertical-align: middle;\n",
       "    }\n",
       "\n",
       "    .dataframe tbody tr th {\n",
       "        vertical-align: top;\n",
       "    }\n",
       "\n",
       "    .dataframe thead th {\n",
       "        text-align: right;\n",
       "    }\n",
       "</style>\n",
       "<table border=\"1\" class=\"dataframe\">\n",
       "  <thead>\n",
       "    <tr style=\"text-align: right;\">\n",
       "      <th></th>\n",
       "      <th>GAME_DATE_EST</th>\n",
       "      <th>GAME_ID</th>\n",
       "      <th>GAME_STATUS_TEXT</th>\n",
       "      <th>HOME_TEAM_ID</th>\n",
       "      <th>VISITOR_TEAM_ID</th>\n",
       "      <th>SEASON</th>\n",
       "      <th>TEAM_ID_home</th>\n",
       "      <th>PTS_home</th>\n",
       "      <th>FG_PCT_home</th>\n",
       "      <th>FT_PCT_home</th>\n",
       "      <th>...</th>\n",
       "      <th>OREB</th>\n",
       "      <th>DREB</th>\n",
       "      <th>REB</th>\n",
       "      <th>AST</th>\n",
       "      <th>STL</th>\n",
       "      <th>BLK</th>\n",
       "      <th>TO</th>\n",
       "      <th>PF</th>\n",
       "      <th>PTS</th>\n",
       "      <th>PLUS_MINUS</th>\n",
       "    </tr>\n",
       "  </thead>\n",
       "  <tbody>\n",
       "    <tr>\n",
       "      <th>567716</th>\n",
       "      <td>2020-07-24</td>\n",
       "      <td>11900109</td>\n",
       "      <td>Final</td>\n",
       "      <td>1610612755</td>\n",
       "      <td>1610612763</td>\n",
       "      <td>2019</td>\n",
       "      <td>1610612755</td>\n",
       "      <td>90.0</td>\n",
       "      <td>0.432</td>\n",
       "      <td>0.833</td>\n",
       "      <td>...</td>\n",
       "      <td>NaN</td>\n",
       "      <td>NaN</td>\n",
       "      <td>NaN</td>\n",
       "      <td>NaN</td>\n",
       "      <td>NaN</td>\n",
       "      <td>NaN</td>\n",
       "      <td>NaN</td>\n",
       "      <td>NaN</td>\n",
       "      <td>NaN</td>\n",
       "      <td>NaN</td>\n",
       "    </tr>\n",
       "    <tr>\n",
       "      <th>568009</th>\n",
       "      <td>2020-07-26</td>\n",
       "      <td>11900122</td>\n",
       "      <td>Final</td>\n",
       "      <td>1610612763</td>\n",
       "      <td>1610612745</td>\n",
       "      <td>2019</td>\n",
       "      <td>1610612763</td>\n",
       "      <td>104.0</td>\n",
       "      <td>0.386</td>\n",
       "      <td>0.778</td>\n",
       "      <td>...</td>\n",
       "      <td>NaN</td>\n",
       "      <td>NaN</td>\n",
       "      <td>NaN</td>\n",
       "      <td>NaN</td>\n",
       "      <td>NaN</td>\n",
       "      <td>NaN</td>\n",
       "      <td>NaN</td>\n",
       "      <td>NaN</td>\n",
       "      <td>NaN</td>\n",
       "      <td>NaN</td>\n",
       "    </tr>\n",
       "    <tr>\n",
       "      <th>568280</th>\n",
       "      <td>2020-07-28</td>\n",
       "      <td>11900128</td>\n",
       "      <td>Final</td>\n",
       "      <td>1610612748</td>\n",
       "      <td>1610612763</td>\n",
       "      <td>2019</td>\n",
       "      <td>1610612748</td>\n",
       "      <td>110.0</td>\n",
       "      <td>0.429</td>\n",
       "      <td>0.719</td>\n",
       "      <td>...</td>\n",
       "      <td>NaN</td>\n",
       "      <td>NaN</td>\n",
       "      <td>NaN</td>\n",
       "      <td>NaN</td>\n",
       "      <td>NaN</td>\n",
       "      <td>NaN</td>\n",
       "      <td>NaN</td>\n",
       "      <td>NaN</td>\n",
       "      <td>NaN</td>\n",
       "      <td>NaN</td>\n",
       "    </tr>\n",
       "  </tbody>\n",
       "</table>\n",
       "<p>3 rows × 49 columns</p>\n",
       "</div>"
      ],
      "text/plain": [
       "       GAME_DATE_EST   GAME_ID GAME_STATUS_TEXT  HOME_TEAM_ID  \\\n",
       "567716    2020-07-24  11900109            Final    1610612755   \n",
       "568009    2020-07-26  11900122            Final    1610612763   \n",
       "568280    2020-07-28  11900128            Final    1610612748   \n",
       "\n",
       "        VISITOR_TEAM_ID  SEASON  TEAM_ID_home  PTS_home  FG_PCT_home  \\\n",
       "567716       1610612763    2019    1610612755      90.0        0.432   \n",
       "568009       1610612745    2019    1610612763     104.0        0.386   \n",
       "568280       1610612763    2019    1610612748     110.0        0.429   \n",
       "\n",
       "        FT_PCT_home  ...  OREB  DREB  REB  AST  STL  BLK  TO  PF  PTS  \\\n",
       "567716        0.833  ...   NaN   NaN  NaN  NaN  NaN  NaN NaN NaN  NaN   \n",
       "568009        0.778  ...   NaN   NaN  NaN  NaN  NaN  NaN NaN NaN  NaN   \n",
       "568280        0.719  ...   NaN   NaN  NaN  NaN  NaN  NaN NaN NaN  NaN   \n",
       "\n",
       "        PLUS_MINUS  \n",
       "567716         NaN  \n",
       "568009         NaN  \n",
       "568280         NaN  \n",
       "\n",
       "[3 rows x 49 columns]"
      ]
     },
     "execution_count": 121,
     "metadata": {},
     "output_type": "execute_result"
    }
   ],
   "source": [
    "data_filtered_date[data_filtered_date['PLAYER_ID'] == players_not_in_data_filtered['PLAYER_ID'].unique()[5]]"
   ]
  },
  {
   "cell_type": "markdown",
   "metadata": {},
   "source": [
    "Since these 6 players played mostly (exept 3 games of one player so useless in any case) later than 2019, I can remove them "
   ]
  },
  {
   "cell_type": "code",
   "execution_count": 130,
   "metadata": {},
   "outputs": [],
   "source": [
    "## removing the players with player_id players_not_in_data_filtered['PLAYER_ID'].unique() \n",
    "data_filtered_date = data_filtered_date[~data_filtered_date['PLAYER_ID'].isin(players_not_in_data_filtered['PLAYER_ID'].unique())]"
   ]
  },
  {
   "cell_type": "code",
   "execution_count": 131,
   "metadata": {},
   "outputs": [
    {
     "data": {
      "text/plain": [
       "((1769,), (1769,))"
      ]
     },
     "execution_count": 131,
     "metadata": {},
     "output_type": "execute_result"
    }
   ],
   "source": [
    "data_filtered_date['PLAYER_ID'].unique().shape, players['PLAYER_ID'].unique().shape"
   ]
  },
  {
   "cell_type": "markdown",
   "metadata": {},
   "source": [
    "Ok now we have the same number of player_IDs and game_IDs, let's tidy things up"
   ]
  },
  {
   "cell_type": "code",
   "execution_count": 132,
   "metadata": {},
   "outputs": [],
   "source": [
    "game_data = data_filtered_date \n",
    "players_data = players"
   ]
  },
  {
   "cell_type": "code",
   "execution_count": 136,
   "metadata": {},
   "outputs": [
    {
     "name": "stdout",
     "output_type": "stream",
     "text": [
      "Game_IDs OK\n"
     ]
    }
   ],
   "source": [
    "if game_data['GAME_ID'].unique().shape == data_filtered_date['GAME_ID'].unique().shape:\n",
    "    print(\"Game_IDs OK\")"
   ]
  },
  {
   "cell_type": "code",
   "execution_count": 135,
   "metadata": {},
   "outputs": [
    {
     "name": "stdout",
     "output_type": "stream",
     "text": [
      "Players_IDs OK\n"
     ]
    }
   ],
   "source": [
    "if game_data['PLAYER_ID'].unique().shape == players_data['PLAYER_ID'].unique().shape:\n",
    "    print(\"Players_IDs OK\")"
   ]
  },
  {
   "cell_type": "markdown",
   "metadata": {},
   "source": [
    "Now the problem is that I have the game_data dataset that contains NAs, let's fix it"
   ]
  },
  {
   "cell_type": "code",
   "execution_count": null,
   "metadata": {},
   "outputs": [
    {
     "data": {
      "text/plain": [
       "NICKNAME          383868\n",
       "START_POSITION    238168\n",
       "COMMENT           319792\n",
       "MIN                64077\n",
       "FGM                64077\n",
       "FGA                64077\n",
       "FG_PCT             64077\n",
       "FG3M               64077\n",
       "FG3A               64077\n",
       "FG3_PCT            64077\n",
       "FTM                64077\n",
       "FTA                64077\n",
       "FT_PCT             64077\n",
       "OREB               64077\n",
       "DREB               64077\n",
       "REB                64077\n",
       "AST                64077\n",
       "STL                64077\n",
       "BLK                64077\n",
       "TO                 64077\n",
       "PF                 64077\n",
       "PTS                64077\n",
       "PLUS_MINUS         75557\n",
       "dtype: int64"
      ]
     },
     "execution_count": 139,
     "metadata": {},
     "output_type": "execute_result"
    }
   ],
   "source": [
    "game_data.isna().sum()[game_data.isna().sum() > 0] ## this are the columns with missing values"
   ]
  },
  {
   "cell_type": "markdown",
   "metadata": {},
   "source": [
    "I first need to determine the label and the predictor variables"
   ]
  },
  {
   "cell_type": "markdown",
   "metadata": {},
   "source": []
  }
 ],
 "metadata": {
  "kernelspec": {
   "display_name": "Python 3 (ipykernel)",
   "language": "python",
   "name": "python3"
  },
  "language_info": {
   "codemirror_mode": {
    "name": "ipython",
    "version": 3
   },
   "file_extension": ".py",
   "mimetype": "text/x-python",
   "name": "python",
   "nbconvert_exporter": "python",
   "pygments_lexer": "ipython3",
   "version": "3.10.12"
  }
 },
 "nbformat": 4,
 "nbformat_minor": 4
}
